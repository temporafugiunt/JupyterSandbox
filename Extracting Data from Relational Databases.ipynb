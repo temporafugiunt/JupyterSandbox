{
 "cells": [
  {
   "cell_type": "markdown",
   "metadata": {},
   "source": [
    "# SQLite Database"
   ]
  },
  {
   "cell_type": "markdown",
   "metadata": {},
   "source": [
    "### import package"
   ]
  },
  {
   "cell_type": "code",
   "execution_count": 2,
   "metadata": {},
   "outputs": [],
   "source": [
    "# import sqlite3 package\n",
    "import sqlite3"
   ]
  },
  {
   "cell_type": "markdown",
   "metadata": {},
   "source": [
    "### connect to database"
   ]
  },
  {
   "cell_type": "code",
   "execution_count": 6,
   "metadata": {},
   "outputs": [],
   "source": [
    "# create a connection to the database : create database if it isnt' already available\n",
    "connection = sqlite3.connect(\"classroomDB.db\")\n",
    "connection.close()"
   ]
  },
  {
   "cell_type": "markdown",
   "metadata": {},
   "source": [
    "### create table"
   ]
  },
  {
   "cell_type": "code",
   "execution_count": 7,
   "metadata": {},
   "outputs": [],
   "source": [
    "# open connection\n",
    "connection = sqlite3.connect(\"classroomDB.db\")\n",
    "#open cursor\n",
    "cursor = connection.cursor()\n",
    "# query for creating table\n",
    "create_table = \"\"\"\n",
    "    create table classroom(\n",
    "        student_id integer primary key,\n",
    "        name varchar(20),\n",
    "        gender char(1),\n",
    "        physics_marks integer,\n",
    "        chemistry_marks integer,\n",
    "        mathematics_marks integer\n",
    "    );\"\"\"\n",
    "#execute query\n",
    "cursor.execute(create_table)\n",
    "#commit changes\n",
    "connection.commit()\n",
    "#close connection\n",
    "connection.close()"
   ]
  },
  {
   "cell_type": "markdown",
   "metadata": {},
   "source": [
    "### insert data"
   ]
  },
  {
   "cell_type": "code",
   "execution_count": 16,
   "metadata": {},
   "outputs": [],
   "source": [
    "# sample data\n",
    "classroom_data = [(1, \"Raj\", \"M\", 70, 84, 92),\n",
    "                  (2, \"Poonam\", \"F\", 87, 69, 93),\n",
    "                  (3, \"Nik\", \"M\", 65, 83, 90),\n",
    "                  (4, \"Rahul\", \"F\", 83, 76,89)]\n",
    "# open connection\n",
    "connection = sqlite3.connect(\"classroomDB.db\")\n",
    "#open cursor\n",
    "cursor = connection.cursor()\n",
    "# insert each student record\n",
    "for student in classroom_data:\n",
    "    # formatted query string\n",
    "    insert_statement = \"\"\"insert into classroom\n",
    "        (student_id, name, gender, physics_marks, chemistry_marks, mathematics_marks)\n",
    "        VALUES\n",
    "        ({0}, \"{1}\", \"{2}\", {3}, {4}, {5});\"\"\".format(student[0], student[1], student[2], student[3], student[4], student[5])\n",
    "    # execute insert query\n",
    "    cursor.execute(insert_statement)\n",
    "\n",
    "# commit the changes\n",
    "connection.commit()\n",
    "\n",
    "#close the connection\n",
    "connection.close()"
   ]
  },
  {
   "cell_type": "markdown",
   "metadata": {},
   "source": [
    "### extract data"
   ]
  },
  {
   "cell_type": "code",
   "execution_count": 4,
   "metadata": {},
   "outputs": [
    {
     "name": "stdout",
     "output_type": "stream",
     "text": [
      "(1, u'Raj', u'M', 70, 84, 92)\n",
      "(2, u'Poonam', u'F', 87, 69, 93)\n",
      "(3, u'Nik', u'M', 65, 83, 90)\n",
      "(4, u'Rahul', u'F', 83, 76, 89)\n"
     ]
    }
   ],
   "source": [
    "# open connection\n",
    "connection = sqlite3.connect(\"classroomDB.db\")\n",
    "#open cursor\n",
    "cursor = connection.cursor()\n",
    "# formatted query string\n",
    "select_statement = \"select * from classroom\"\n",
    "\n",
    "cursor.execute(select_statement)\n",
    "\n",
    "result = cursor.fetchall()\n",
    "\n",
    "#print results\n",
    "for row in result:\n",
    "    print(row)\n",
    "\n",
    "#close the connection\n",
    "connection.close()"
   ]
  },
  {
   "cell_type": "markdown",
   "metadata": {},
   "source": [
    "# MySQL database"
   ]
  },
  {
   "cell_type": "markdown",
   "metadata": {},
   "source": [
    "### install package"
   ]
  },
  {
   "cell_type": "code",
   "execution_count": 7,
   "metadata": {},
   "outputs": [
    {
     "name": "stdout",
     "output_type": "stream",
     "text": [
      "Collecting package metadata: ...working... done\n",
      "Solving environment: ...working... done\n",
      "\n",
      "## Package Plan ##\n",
      "\n",
      "  environment location: C:\\ProgramData\\Anaconda2\n",
      "\n",
      "  added / updated specs:\n",
      "    - pymysql\n",
      "\n",
      "\n",
      "The following NEW packages will be INSTALLED:\n",
      "\n",
      "  conda-package-han~ conda-forge/win-64::conda-package-handling-1.3.11-py27_0\n",
      "  pymysql            conda-forge/noarch::pymysql-0.9.3-py_0\n",
      "\n",
      "The following packages will be UPDATED:\n",
      "\n",
      "  conda                      pkgs/main::conda-4.6.11-py27_0 --> conda-forge::conda-4.7.5-py27_0\n",
      "\n",
      "The following packages will be SUPERSEDED by a higher-priority channel:\n",
      "\n",
      "  certifi                                         pkgs/main --> conda-forge\n",
      "  openssl                                         pkgs/main --> conda-forge\n",
      "\n",
      "\n",
      "Preparing transaction: ...working... done\n",
      "Verifying transaction: ...working... done\n",
      "Executing transaction: ...working... done\n",
      "\n",
      "C:\\dev\\POC\\jupyter\\module2>ET _sysp=%~dpA \n",
      "\n",
      "C:\\dev\\POC\\jupyter\\module2>IF NOT EXIST \"!_sysp!\\Scripts\\conda.exe\" \n",
      "Collecting package metadata (repodata.json): ...working... done\n",
      "Solving environment: ...working... done\n",
      "\n",
      "# All requested packages already installed.\n",
      "\n"
     ]
    },
    {
     "name": "stderr",
     "output_type": "stream",
     "text": [
      "WARNING: The conda.compat module is deprecated and will be removed in a future release.\n",
      "'ET' is not recognized as an internal or external command,\n",
      "operable program or batch file.\n",
      "WARNING conda.base.context:use_only_tar_bz2(632): Conda is constrained to only using the old .tar.bz2 file format because you have conda-build installed, and it is <3.18.3.  Update or remove conda-build to get smaller downloads and faster extractions.\n"
     ]
    }
   ],
   "source": [
    "!conda install -y -q pymysql"
   ]
  },
  {
   "cell_type": "markdown",
   "metadata": {},
   "source": [
    "### Run a local mysql instance"
   ]
  },
  {
   "cell_type": "code",
   "execution_count": 11,
   "metadata": {},
   "outputs": [
    {
     "name": "stdout",
     "output_type": "stream",
     "text": [
      "latest: Pulling from mysql/mysql-server\n",
      "35defbf6c365: Pulling fs layer\n",
      "e13cf68584a3: Pulling fs layer\n",
      "259d03b6a792: Pulling fs layer\n",
      "892ac46af8c0: Pulling fs layer\n",
      "892ac46af8c0: Waiting\n",
      "259d03b6a792: Verifying Checksum\n",
      "259d03b6a792: Download complete\n",
      "892ac46af8c0: Verifying Checksum\n",
      "892ac46af8c0: Download complete\n",
      "35defbf6c365: Verifying Checksum\n",
      "35defbf6c365: Download complete\n",
      "e13cf68584a3: Verifying Checksum\n",
      "e13cf68584a3: Download complete\n",
      "35defbf6c365: Pull complete\n",
      "e13cf68584a3: Pull complete\n",
      "259d03b6a792: Pull complete\n",
      "892ac46af8c0: Pull complete\n",
      "Digest: sha256:8dd16a45d0e3e789f2006b608abb1bb69f1a8632a338eef89aec8d6fccda7793\n",
      "Status: Downloaded newer image for mysql/mysql-server:latest\n"
     ]
    }
   ],
   "source": [
    "!docker pull mysql/mysql-server:latest"
   ]
  },
  {
   "cell_type": "code",
   "execution_count": 29,
   "metadata": {},
   "outputs": [
    {
     "name": "stdout",
     "output_type": "stream",
     "text": [
      "84853f9c582cd0d25ac67438e211926e2ccad1e82da5d947b786d48d674c3993\n"
     ]
    }
   ],
   "source": [
    "!docker run --name=mysql1 -p 127.0.0.1:3306:3306 -e MYSQL_ROOT_HOST=% -e MYSQL_DATABASE=classroomDB -e MYSQL_ROOT_PASSWORD=V3ry$3cr3t -d mysql/mysql-server:latest"
   ]
  },
  {
   "cell_type": "markdown",
   "metadata": {},
   "source": [
    "#### if need to reload above"
   ]
  },
  {
   "cell_type": "code",
   "execution_count": null,
   "metadata": {},
   "outputs": [],
   "source": [
    "!docker container rm mysql1 -f"
   ]
  },
  {
   "cell_type": "markdown",
   "metadata": {},
   "source": [
    "### import package"
   ]
  },
  {
   "cell_type": "code",
   "execution_count": 8,
   "metadata": {},
   "outputs": [],
   "source": [
    "import pymysql"
   ]
  },
  {
   "cell_type": "markdown",
   "metadata": {},
   "source": [
    "### connect to database"
   ]
  },
  {
   "cell_type": "code",
   "execution_count": 31,
   "metadata": {},
   "outputs": [],
   "source": [
    "# Connection Details\n",
    "cnx = { 'host': '127.0.0.1',\n",
    "        'username': 'root',\n",
    "        'password': 'V3ry$3cr3t',\n",
    "        'db': 'classroomDB' }\n",
    "connection = pymysql.connect(cnx['host'], cnx['username'], cnx['password'], cnx['db'])\n",
    "# close database\n",
    "connection.close()"
   ]
  },
  {
   "cell_type": "markdown",
   "metadata": {},
   "source": [
    "### create table"
   ]
  },
  {
   "cell_type": "code",
   "execution_count": 32,
   "metadata": {},
   "outputs": [],
   "source": [
    "# Open connection\n",
    "connection = pymysql.connect(cnx['host'], cnx['username'], cnx['password'], cnx['db'])\n",
    "#open cursor\n",
    "cursor = connection.cursor()\n",
    "# query for creating table\n",
    "create_table = \"\"\"\n",
    "    create table classroom(\n",
    "        student_id integer primary key,\n",
    "        name varchar(20),\n",
    "        gender char(1),\n",
    "        physics_marks integer,\n",
    "        chemistry_marks integer,\n",
    "        mathematics_marks integer\n",
    "    );\"\"\"\n",
    "#execute query\n",
    "cursor.execute(create_table)\n",
    "#commit changes\n",
    "connection.commit()\n",
    "#close connection\n",
    "connection.close()"
   ]
  },
  {
   "cell_type": "markdown",
   "metadata": {},
   "source": [
    "### insert data"
   ]
  },
  {
   "cell_type": "code",
   "execution_count": 33,
   "metadata": {},
   "outputs": [],
   "source": [
    "# sample data\n",
    "classroom_data = [(1, \"Raj\", \"M\", 70, 84, 92),\n",
    "                  (2, \"Poonam\", \"F\", 87, 69, 93),\n",
    "                  (3, \"Nik\", \"M\", 65, 83, 90),\n",
    "                  (4, \"Rahul\", \"F\", 83, 76,89)]\n",
    "# open connection\n",
    "connection = pymysql.connect(cnx['host'], cnx['username'], cnx['password'], cnx['db'])\n",
    "#open cursor\n",
    "cursor = connection.cursor()\n",
    "# insert each student record\n",
    "for student in classroom_data:\n",
    "    # formatted query string\n",
    "    insert_statement = \"\"\"insert into classroom\n",
    "        (student_id, name, gender, physics_marks, chemistry_marks, mathematics_marks)\n",
    "        VALUES\n",
    "        ({0}, \"{1}\", \"{2}\", {3}, {4}, {5});\"\"\".format(student[0], student[1], student[2], student[3], \n",
    "                                                      student[4], student[5])\n",
    "    # execute insert query\n",
    "    cursor.execute(insert_statement)\n",
    "\n",
    "# commit the changes\n",
    "connection.commit()\n",
    "\n",
    "#close the connection\n",
    "connection.close()"
   ]
  },
  {
   "cell_type": "markdown",
   "metadata": {},
   "source": [
    "### extract data"
   ]
  },
  {
   "cell_type": "code",
   "execution_count": 34,
   "metadata": {},
   "outputs": [
    {
     "name": "stdout",
     "output_type": "stream",
     "text": [
      "(1, 'Raj', 'M', 70, 84, 92)\n",
      "(2, 'Poonam', 'F', 87, 69, 93)\n",
      "(3, 'Nik', 'M', 65, 83, 90)\n",
      "(4, 'Rahul', 'F', 83, 76, 89)\n"
     ]
    }
   ],
   "source": [
    "# open connection\n",
    "connection = pymysql.connect(cnx['host'], cnx['username'], cnx['password'], cnx['db'])\n",
    "#open cursor\n",
    "cursor = connection.cursor()\n",
    "# formatted query string\n",
    "select_statement = \"select * from classroom\"\n",
    "\n",
    "cursor.execute(select_statement)\n",
    "\n",
    "result = cursor.fetchall()\n",
    "\n",
    "#print results\n",
    "for row in result:\n",
    "    print(row)\n",
    "\n",
    "#close the connection\n",
    "connection.close()"
   ]
  },
  {
   "cell_type": "markdown",
   "metadata": {},
   "source": [
    "# SQL Server"
   ]
  },
  {
   "cell_type": "markdown",
   "metadata": {},
   "source": [
    "### install package"
   ]
  },
  {
   "cell_type": "code",
   "execution_count": 36,
   "metadata": {},
   "outputs": [
    {
     "name": "stdout",
     "output_type": "stream",
     "text": [
      "Collecting package metadata (repodata.json): ...working... done\n",
      "Solving environment: ...working... done\n",
      "\n",
      "## Package Plan ##\n",
      "\n",
      "  environment location: C:\\ProgramData\\Anaconda2\n",
      "\n",
      "  added / updated specs:\n",
      "    - pymssql\n",
      "\n",
      "\n",
      "The following packages will be downloaded:\n",
      "\n",
      "    package                    |            build\n",
      "    ---------------------------|-----------------\n",
      "    freetds-1.00.97            |       hc64555f_0         983 KB\n",
      "    pymssql-2.1.4              |   py27h0c8e037_0         193 KB\n",
      "    ------------------------------------------------------------\n",
      "                                           Total:         1.1 MB\n",
      "\n",
      "The following NEW packages will be INSTALLED:\n",
      "\n",
      "  freetds            pkgs/main/win-64::freetds-1.00.97-hc64555f_0\n",
      "  pymssql            pkgs/main/win-64::pymssql-2.1.4-py27h0c8e037_0\n",
      "\n",
      "\n",
      "Preparing transaction: ...working... done\n",
      "Verifying transaction: ...working... done\n",
      "Executing transaction: ...working... done\n"
     ]
    },
    {
     "name": "stderr",
     "output_type": "stream",
     "text": [
      "WARNING conda.base.context:use_only_tar_bz2(632): Conda is constrained to only using the old .tar.bz2 file format because you have conda-build installed, and it is <3.18.3.  Update or remove conda-build to get smaller downloads and faster extractions.\n"
     ]
    }
   ],
   "source": [
    "!conda install -y -q pymssql"
   ]
  },
  {
   "cell_type": "markdown",
   "metadata": {},
   "source": [
    "### Run a local SQL Server Instance"
   ]
  },
  {
   "cell_type": "code",
   "execution_count": 47,
   "metadata": {},
   "outputs": [
    {
     "name": "stdout",
     "output_type": "stream",
     "text": [
      "0bb7e7514ac99220aa0ac372d99d4ecebf6fe146b09823485850b728dbb90062\n"
     ]
    }
   ],
   "source": [
    "!docker run -e 'ACCEPT_EULA=Y' -e 'SA_PASSWORD=V3ry$3cr3t' \\\n",
    "   -p 1433:1433 --name mssql1 \\\n",
    "   -d registry.freebytech.com/freebytech-pub/msssql:latest"
   ]
  },
  {
   "cell_type": "code",
   "execution_count": 50,
   "metadata": {},
   "outputs": [],
   "source": [
    "!docker exec mssql1 bash -c \"/opt/mssql-tools/bin/sqlcmd -S localhost -U 'sa' -P 'V3ry$3cr3t' -Q 'CREATE DATABASE classroomDB'\""
   ]
  },
  {
   "cell_type": "markdown",
   "metadata": {},
   "source": [
    "#### if need to reload above"
   ]
  },
  {
   "cell_type": "code",
   "execution_count": 49,
   "metadata": {},
   "outputs": [
    {
     "name": "stdout",
     "output_type": "stream",
     "text": [
      "mssql1\n"
     ]
    }
   ],
   "source": [
    "!docker container rm mssql1 -f"
   ]
  },
  {
   "cell_type": "markdown",
   "metadata": {},
   "source": [
    "### import package"
   ]
  },
  {
   "cell_type": "code",
   "execution_count": 37,
   "metadata": {},
   "outputs": [],
   "source": [
    "import pymssql"
   ]
  },
  {
   "cell_type": "markdown",
   "metadata": {},
   "source": [
    "### connect to database"
   ]
  },
  {
   "cell_type": "code",
   "execution_count": 52,
   "metadata": {},
   "outputs": [],
   "source": [
    "cnx = {\n",
    "    'host': '127.0.0.1',\n",
    "    'username': 'sa',\n",
    "    'password': 'V3ry$3cr3t',\n",
    "    'db': 'classroomDB'\n",
    "}\n",
    "connection = pymssql.connect(cnx['host'], cnx['username'], cnx['password'], cnx['db'])\n",
    "connection.close()"
   ]
  },
  {
   "cell_type": "markdown",
   "metadata": {},
   "source": [
    "### create table"
   ]
  },
  {
   "cell_type": "code",
   "execution_count": 53,
   "metadata": {},
   "outputs": [],
   "source": [
    "# Open connection\n",
    "connection = pymssql.connect(cnx['host'], cnx['username'], cnx['password'], cnx['db'])\n",
    "#open cursor\n",
    "cursor = connection.cursor()\n",
    "# query for creating table\n",
    "create_table = \"\"\"\n",
    "    create table classroom(\n",
    "        student_id integer primary key,\n",
    "        name varchar(20),\n",
    "        gender char(1),\n",
    "        physics_marks integer,\n",
    "        chemistry_marks integer,\n",
    "        mathematics_marks integer\n",
    "    );\"\"\"\n",
    "#execute query\n",
    "cursor.execute(create_table)\n",
    "#commit changes\n",
    "connection.commit()\n",
    "#close connection\n",
    "connection.close()"
   ]
  },
  {
   "cell_type": "markdown",
   "metadata": {},
   "source": [
    "### insert data"
   ]
  },
  {
   "cell_type": "code",
   "execution_count": 56,
   "metadata": {},
   "outputs": [],
   "source": [
    "# sample data\n",
    "classroom_data = [(1, \"Raj\", \"M\", 70, 84, 92),\n",
    "                  (2, \"Poonam\", \"F\", 87, 69, 93),\n",
    "                  (3, \"Nik\", \"M\", 65, 83, 90),\n",
    "                  (4, \"Rahul\", \"F\", 83, 76,89)]\n",
    "# open connection\n",
    "connection = pymssql.connect(cnx['host'], cnx['username'], cnx['password'], cnx['db'])\n",
    "#open cursor\n",
    "cursor = connection.cursor()\n",
    "# insert each student record\n",
    "for student in classroom_data:\n",
    "    # formatted query string\n",
    "    insert_statement = \"\"\"insert into classroom\n",
    "        (student_id, name, gender, physics_marks, chemistry_marks, mathematics_marks)\n",
    "        VALUES\n",
    "        ({0}, '{1}', '{2}', {3}, {4}, {5});\"\"\".format(student[0], student[1], student[2], student[3], \n",
    "                                                      student[4], student[5])\n",
    "    # execute insert query\n",
    "    cursor.execute(insert_statement)\n",
    "\n",
    "# commit the changes\n",
    "connection.commit()\n",
    "\n",
    "#close the connection\n",
    "connection.close()"
   ]
  },
  {
   "cell_type": "code",
   "execution_count": null,
   "metadata": {},
   "outputs": [],
   "source": []
  }
 ],
 "metadata": {
  "kernelspec": {
   "display_name": "Python 2",
   "language": "python",
   "name": "python2"
  },
  "language_info": {
   "codemirror_mode": {
    "name": "ipython",
    "version": 2
   },
   "file_extension": ".py",
   "mimetype": "text/x-python",
   "name": "python",
   "nbconvert_exporter": "python",
   "pygments_lexer": "ipython2",
   "version": "2.7.16"
  }
 },
 "nbformat": 4,
 "nbformat_minor": 2
}
